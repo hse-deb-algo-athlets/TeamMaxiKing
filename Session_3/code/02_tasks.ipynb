{
 "cells": [
  {
   "cell_type": "markdown",
   "metadata": {},
   "source": [
    "#### Task 1: Simple vector embedding generation\n",
    "\n",
    "**Objective:**\n",
    "Generate vector embeddings from text data.\n",
    "\n",
    "**Task Description:**\n",
    "\n",
    "- load huggingface embedding model (`model_name=\"sentence-transformers/all-mpnet-base-v2\"`)\n",
    "- embed simple text queries\n",
    "\n",
    "How to select the right embedding model: [MTEB - Massive Text Embedding Benchmark](https://huggingface.co/blog/mteb)\n",
    "\n",
    "**Useful links:**\n",
    "\n",
    "- [Langchain Chroma](https://python.langchain.com/v0.2/docs/integrations/vectorstores/chroma/)\n"
   ]
  },
  {
   "cell_type": "code",
   "execution_count": 12,
   "metadata": {},
   "outputs": [],
   "source": [
    "from langchain_huggingface import HuggingFaceEmbeddings\n",
    "from langchain_core.documents import Document\n",
    "\n",
    "# ADD HERE YOUR CODE\n",
    "embedding_model = HuggingFaceEmbeddings(model_name=\"sentence-transformers/all-mpnet-base-v2\")"
   ]
  },
  {
   "cell_type": "code",
   "execution_count": 13,
   "metadata": {},
   "outputs": [
    {
     "name": "stdout",
     "output_type": "stream",
     "text": [
      "Embedding vector length: 768\n",
      "[-0.04895179718732834, -0.03986203297972679, -0.021562788635492325, 0.00990856159478426, -0.038103923201560974, 0.01268438808619976, 0.04349448159337044, 0.07183388620615005, 0.009748609736561775, -0.006987091153860092]\n"
     ]
    }
   ],
   "source": [
    "text = \"This is a test document.\"\n",
    "\n",
    "# ADD HERE YOUR CODE\n",
    "# Perform vector search\n",
    "query_vector = embedding_model.embed_query(text)\n",
    "\n",
    "print(f\"Embedding vector length: {len(query_vector)}\")\n",
    "print(query_vector[:10])"
   ]
  },
  {
   "cell_type": "markdown",
   "metadata": {},
   "source": [
    "#### Task 2: Generate embedding vectors with custom dataset\n",
    "\n",
    "**Objective:**\n",
    "Load custom dataset, preprocess it and generate vector embeddings.\n",
    "\n",
    "**Task Description:**\n",
    "\n",
    "- load pdf document \"AI_Book.pdf\" via langchain document loader: `PyPDFLoader`\n",
    "- use RecursiveCharacterTextSplitter to split documents into chunks\n",
    "- generate embeddings for single documents\n",
    "\n",
    "**RecursiveCharacterTextSplitter:**\n",
    "\n",
    "This text splitter is the recommended one for generic text. It is parameterized by a list of characters. It tries to split on them in order until the chunks are small enough. The default list is `[\"\\n\\n\", \"\\n\", \" \", \"\"]`. This has the effect of trying to keep all paragraphs (and then sentences, and then words) together as long as possible, as those would generically seem to be the strongest semantically related pieces of text.\n",
    "\n",
    "**Useful links:**\n",
    "\n",
    "- [Langchain PyPDFLoader](https://api.python.langchain.com/en/latest/document_loaders/langchain_community.document_loaders.pdf.PyPDFLoader.html)\n",
    "- [Langchain RecursiveCharacterTextSplitter](https://api.python.langchain.com/en/latest/character/langchain_text_splitters.character.RecursiveCharacterTextSplitter.html)\n"
   ]
  },
  {
   "cell_type": "code",
   "execution_count": 14,
   "metadata": {},
   "outputs": [
    {
     "name": "stdout",
     "output_type": "stream",
     "text": [
      "page_content='Aurélien GéronHands-on Machine Learning with\n",
      "Scikit-Learn, Keras, and\n",
      "TensorFlow\n",
      "Concepts, Tools, and Techniques to\n",
      "Build Intelligent SystemsSECOND EDITION\n",
      "Boston Farnham Sebastopol Tokyo Beijing Boston Farnham Sebastopol Tokyo Beijing' metadata={'source': './AI_Book.pdf', 'page': 2}\n"
     ]
    }
   ],
   "source": [
    "from langchain_community.document_loaders import PyPDFLoader\n",
    "from langchain_text_splitters import RecursiveCharacterTextSplitter\n",
    "import re\n",
    "\n",
    "pdf_doc = \"./AI_Book.pdf\"\n",
    "\n",
    "# Create pdf data loader\n",
    "# ADD HERE YOUR CODE\n",
    "loader = PyPDFLoader(file_path=pdf_doc)\n",
    "\n",
    "# Load and split documents in chunks\n",
    "# ADD HERE YOUR CODE\n",
    "\n",
    "pages = loader.load()\n",
    "pages_chunked = RecursiveCharacterTextSplitter().split_documents(pages)\n",
    "\n",
    "# Function to clean text by removing invalid unicode characters, including surrogate pairs\n",
    "def clean_text(chunk):\n",
    "    # Remove surrogate pairs\n",
    "    text = chunk.page_content\n",
    "    text = re.sub(r'[\\ud800-\\udfff]', '', text)\n",
    "    # Optionally remove non-ASCII characters (depends on your use case)\n",
    "    text = re.sub(r'[^\\x00-\\x7F]+', '', text)\n",
    "    return Document(page_content=text, metadata=chunk.metadata)\n",
    "\n",
    "pages_chunked_cleaned = [clean_text(chunk) for chunk in pages_chunked]\n",
    "\n",
    "print(pages_chunked[0])"
   ]
  },
  {
   "cell_type": "code",
   "execution_count": 15,
   "metadata": {},
   "outputs": [
    {
     "name": "stdout",
     "output_type": "stream",
     "text": [
      "page_content='978-1-492-03264-9\n",
      "[LSI]Hands-on Machine Learning with Scikit-Learn, Keras, and TensorFlow\n",
      "by Aurélien Géron\n",
      "Copyright © 2019 Aurélien Géron. All rights reserved.\n",
      "Printed in the United States of America.\n",
      "Published by O’Reilly Media, Inc., 1005 Gravenstein Highway North, Sebastopol, CA 95472.\n",
      "O’Reilly books may be purchased for educational, business, or sales promotional use. Online editions are\n",
      "also available for most titles ( http://oreilly.com ). For more information, contact our corporate/institutional\n",
      "sales department: 800-998-9938 or corporate@oreilly.com .\n",
      "Editor:  Nicole Tache\n",
      "Interior Designer:  David FutatoCover Designer:  Karen Montgomery\n",
      "Illustrator:  Rebecca Demarest\n",
      "June 2019:  Second Edition\n",
      "Revision History for the Early Release\n",
      "2018-11-05: First Release\n",
      "2019-01-24: Second Release\n",
      "2019-03-07: Third Release\n",
      "2019-03-29: Fourth Release\n",
      "2019-04-22: Fifth Release\n",
      "See http://oreilly.com/catalog/errata.csp?isbn=9781492032649  for release details.\n",
      "The O’Reilly logo is a registered trademark of O’Reilly Media, Inc. Hands-on Machine Learning with\n",
      "Scikit-Learn, Keras, and TensorFlow , the cover image, and related trade dress are trademarks of O’Reilly\n",
      "Media, Inc.\n",
      "While the publisher and the author have used good faith efforts to ensure that the information and\n",
      "instructions contained in this work are accurate, the publisher and the author disclaim all responsibility\n",
      "for errors or omissions, including without limitation responsibility for damages resulting from the use of\n",
      "or reliance on this work. Use of the information and instructions contained in this work is at your own\n",
      "risk. If any code samples or other technology this work contains or describes is subject to open source\n",
      "licenses or the intellectual property rights of others, it is your responsibility to ensure that your use\n",
      "thereof complies with such licenses and/or rights.' metadata={'source': './AI_Book.pdf', 'page': 3}\n"
     ]
    }
   ],
   "source": [
    "print(pages_chunked[1])"
   ]
  },
  {
   "cell_type": "code",
   "execution_count": 16,
   "metadata": {},
   "outputs": [
    {
     "name": "stdout",
     "output_type": "stream",
     "text": [
      "Number of text chunks: 507\n"
     ]
    }
   ],
   "source": [
    "print(f\"Number of text chunks: {len(pages_chunked)}\")"
   ]
  },
  {
   "cell_type": "markdown",
   "metadata": {},
   "source": [
    "#### Task 3: Store vector embeddings from pdf document to ChromaDB vector database.\n",
    "\n",
    "**Objective:**\n",
    "\n",
    "Store vector embeddings into ChromaDB to store knowledge.\n",
    "\n",
    "**Task Description:**\n",
    "\n",
    "- create chromadb client\n",
    "- create chromadb collection\n",
    "- create langchain chroma db client\n",
    "- store text document chunks and vector embeddings to vector databases\n",
    "\n",
    "**Useful links:**\n",
    "\n",
    "- [Langchain How To](https://python.langchain.com/v0.2/docs/integrations/vectorstores/chroma/#initialization-from-client)\n"
   ]
  },
  {
   "cell_type": "code",
   "execution_count": 17,
   "metadata": {},
   "outputs": [],
   "source": [
    "from langchain_chroma import Chroma\n",
    "import chromadb\n",
    "import chromadb\n",
    "from chromadb.config import DEFAULT_TENANT, DEFAULT_DATABASE, Settings\n",
    "\n",
    "client = chromadb.HttpClient(\n",
    "    host=\"localhost\",\n",
    "    port=8000,\n",
    "    ssl=False,\n",
    "    headers=None,\n",
    "    settings=Settings(allow_reset=True, anonymized_telemetry=False),\n",
    "    tenant=DEFAULT_TENANT,\n",
    "    database=DEFAULT_DATABASE,\n",
    ")\n",
    "\n",
    "# ADD HERE YOUR CODE\n",
    "# Create a collection\n",
    "collection = client.get_or_create_collection(\"test_collection\")\n",
    "#embedding_model = \"llama3.2\"\n",
    "\n",
    "# ADD HERE YOUR CODE\n",
    "# Create chromadb\n",
    "vector_db_from_client = Chroma(\n",
    "    client=client,\n",
    "    collection_name=\"test_collection\",\n",
    "    embedding_function=embedding_model,\n",
    ")"
   ]
  },
  {
   "cell_type": "code",
   "execution_count": 18,
   "metadata": {},
   "outputs": [
    {
     "data": {
      "text/plain": [
       "['34c0faa6-4b9f-473b-9332-4cc347509f4f',\n",
       " 'a94748b8-2645-4f0a-adbb-f70b7a51cc90',\n",
       " '1daefd95-eaaa-4e13-8593-945d3cac8dca',\n",
       " 'cab8ae14-6e4f-40c6-b911-75f378ffd1a0',\n",
       " 'e5cd02fe-3bac-4f9c-bd40-c0f7d955907b',\n",
       " '017ce799-ac14-4ba6-a836-982bb63b2f2e',\n",
       " '119f1821-606a-4330-a54a-3238b82c078b',\n",
       " 'b6ebecda-7985-4e56-a931-7a55c64d2496',\n",
       " '65728310-f73c-4f43-a163-be7c9b7bbbc4',\n",
       " 'e3909565-6d85-4491-90d4-f332d8ab7335',\n",
       " '524d14b7-5ee4-4299-a459-f0627e5467c0',\n",
       " 'f9e7a225-736b-499b-9af0-e3be072e20bb',\n",
       " 'fc38f1e9-2b37-4698-bf68-ab7a16977a4c',\n",
       " '7b5fba41-6c54-4c12-818d-6238fafb3bd9',\n",
       " '5b978c51-b7ce-406d-8e83-8f4b9c8d2be4',\n",
       " '4fd2f720-149c-4714-870b-0210eeaf9e7d',\n",
       " '1eefa1fc-a3bf-46a8-a19a-50f7889753e6',\n",
       " '2f17d31b-dcba-4341-920f-700063c0a715',\n",
       " 'd3ef51fe-ae37-4f4b-92c7-3fdd89ae9edb',\n",
       " '51e4c94c-3223-401c-aef2-95bb91c339d5',\n",
       " 'a503ff13-dc40-4809-b0df-19d3a114f92c',\n",
       " '70e5bc64-8f57-45b0-8ed2-5a0a1112a294',\n",
       " 'b86e42d3-f6c8-4b17-b33a-2b22fbc0490a',\n",
       " 'b2c6deab-7da8-4140-b00a-16384172bb52',\n",
       " '0d2acd1a-06e5-4b71-bf88-3afa8d0e9cf1',\n",
       " '0ad3bb01-6406-4565-9007-27942c102bc2',\n",
       " 'aed4ad65-a220-4026-bfa6-66e0eb96117a',\n",
       " '71a37f12-f4dd-4b6b-afce-e93a24f8da50',\n",
       " 'd427e934-11b6-454c-81ad-00b4bf58ed27',\n",
       " 'f395f707-0226-4e68-9792-79d84d985914',\n",
       " '26a6c677-1ec5-4fe7-bf14-22899ff8fb8e',\n",
       " 'd1bba8a6-8a5e-4ff5-a762-4c272c380ea9',\n",
       " 'd8dc1c31-4384-4336-abef-964b19af7a87',\n",
       " '787c33ff-c2b9-4448-af31-5cfcb257433d',\n",
       " 'e1de0d44-c705-4c09-ae37-b754466d464b',\n",
       " 'fd10be3b-1f27-46b2-a9f7-3b3b8908ef86',\n",
       " '973d0cff-194b-4485-958e-5527fa9d88b3',\n",
       " '46f3e4b0-53cb-4e71-ae6b-602072fdf614',\n",
       " '5a81cd97-249e-4df7-819c-5bed784f1616',\n",
       " 'd95500fd-9bf0-4256-b941-6abca250be3d',\n",
       " '08f38c2e-afb2-4a72-9101-b39395409e73',\n",
       " '9ec92fee-520c-4c70-97bb-5c294893f732',\n",
       " 'ce97a6ba-4b29-4c5e-b335-c80cb49bdce9',\n",
       " '2dc49dcc-2c2a-4964-acc7-826089f77c1e',\n",
       " 'dbca2dd3-3b4a-4518-9200-494420f621a0',\n",
       " '3f18efcf-efca-4327-8ab8-93b47a0928d1',\n",
       " 'c1f1f31f-4cb7-429f-a929-98f930c1d141',\n",
       " '6d1ac29c-d2e3-47f4-b56f-f6c11a51274f',\n",
       " 'ff26e854-d0cd-4197-a645-2362fa7a59db',\n",
       " 'ef1f35d3-2a77-4af8-b974-2c820ef0f331']"
      ]
     },
     "execution_count": 18,
     "metadata": {},
     "output_type": "execute_result"
    }
   ],
   "source": [
    "from uuid import uuid4\n",
    "\n",
    "uuids = [str(uuid4()) for _ in range(len(pages_chunked[:50]))]\n",
    "\n",
    "# ADD HERE YOUR CODE\n",
    "vector_db_from_client.add_documents(documents=pages_chunked_cleaned[:50], id=uuids)\n",
    "#vector_db_from_client.add_texts(pages_chunked_cleaned, id = uuids)"
   ]
  },
  {
   "cell_type": "code",
   "execution_count": 19,
   "metadata": {},
   "outputs": [
    {
     "data": {
      "text/plain": [
       "1"
      ]
     },
     "execution_count": 19,
     "metadata": {},
     "output_type": "execute_result"
    }
   ],
   "source": [
    "client.count_collections()"
   ]
  },
  {
   "cell_type": "code",
   "execution_count": 21,
   "metadata": {},
   "outputs": [],
   "source": [
    "# client.delete_collection(\"ai_model_book\")"
   ]
  },
  {
   "cell_type": "markdown",
   "metadata": {},
   "source": [
    "#### Task 4: Access ChromaDB and perform vector search\n",
    "\n",
    "**Objective:**\n",
    "\n",
    "Use query to perform vector search against ChromaDB vector database\n",
    "\n",
    "**Task Description:**\n",
    "\n",
    "- define query\n",
    "- run vector search\n",
    "- print k=3 most similar documents\n",
    "\n",
    "**Useful links:**\n",
    "\n",
    "- [Langchain Query ChromaDB](https://python.langchain.com/v0.2/docs/integrations/vectorstores/chroma/#query-directly)\n"
   ]
  },
  {
   "cell_type": "code",
   "execution_count": 22,
   "metadata": {},
   "outputs": [
    {
     "name": "stdout",
     "output_type": "stream",
     "text": [
      "Types of Machine Learning Systems\n",
      "There are so many different types of Machine Learning systems that it is useful to\n",
      "classify them in broad categories based on:\n",
      "Whether or not they are trained with human supervision (supervised, unsuper\n",
      "vised, semisupervised, and Reinforcement Learning)\n",
      "Whether or not they can learn incrementally on the fly (online versus batch\n",
      "learning)\n",
      "Whether they work by simply comparing new data points to known data points,\n",
      "or instead detect patterns in the training data and build a predictive model, much\n",
      "like scientists do (instance-based versus model-based learning)\n",
      "These criteria are not exclusive; you can combine them in any way you like. For\n",
      "example, a state-of-the-art spam filter may learn on the fly using a deep neural net\n",
      "work model trained using examples of spam and ham; this makes it an online, model-\n",
      "based, supervised learning system.\n",
      "Lets look at each of these criteria a bit more closely.\n",
      "Supervised/Unsupervised Learning\n",
      "Machine Learning systems can be classified according to the amount and type of\n",
      "supervision they get during training. There are four major categories: supervised\n",
      "learning, unsupervised learning, semisupervised learning, and Reinforcement Learn\n",
      "ing.\n",
      "Supervised learning\n",
      "In supervised learning , the training data you feed to the algorithm includes the desired\n",
      "solutions, called labels  (Figure 1-5 ).\n",
      "Figure 1-5. A labeled training set for supervised learning (e.g., spam classification)\n",
      "8 | Chapter 1: The Machine Learning Landscape\n",
      "{'page': 33, 'source': './AI_Book.pdf'}\n",
      "\n",
      "\n",
      "Figure 1-12. Reinforcement Learning\n",
      "For example, many robots implement Reinforcement Learning algorithms to learn\n",
      "how to walk. DeepMinds AlphaGo program is also a good example of Reinforcement\n",
      "Learning: it made the headlines in May 2017 when it beat the world champion Ke Jie\n",
      "at the game of Go. It learned its winning policy by analyzing millions of games, and\n",
      "then playing many games against itself. Note that learning was turned off during the\n",
      "games against the champion; AlphaGo was just applying the policy it had learned.\n",
      "Batch and Online Learning\n",
      "Another criterion used to classify Machine Learning systems is whether or not the\n",
      "system can learn incrementally from a stream of incoming data.\n",
      "Batch learning\n",
      "In batch learning , the system is incapable of learning incrementally: it must be trained\n",
      "using all the available data. This will generally take a lot of time and computing\n",
      "resources, so it is typically done offline. First the system is trained, and then it is\n",
      "launched into production and runs without learning anymore; it just applies what it\n",
      "has learned. This is called offline  learning .\n",
      "If you want a batch learning system to know about new data (such as a new type of\n",
      "spam), you need to train a new version of the system from scratch on the full dataset\n",
      "(not just the new data, but also the old data), then stop the old system and replace it\n",
      "with the new one.\n",
      "Fortunately, the whole process of training, evaluating, and launching a Machine\n",
      "Learning system can be automated fairly easily (as shown in Figure 1-3 ), so even a\n",
      "Types of Machine Learning Systems | 15\n",
      "{'page': 40, 'source': './AI_Book.pdf'}\n",
      "\n",
      "\n",
      "Figure 1-15. Instance-based learning\n",
      "Model-based learning\n",
      "Another way to generalize from a set of examples is to build a model of these exam\n",
      "ples, then use that model to make predictions . This is called model-based learning\n",
      "(Figure 1-16 ).\n",
      "Figure 1-16. Model-based learning\n",
      "For example, suppose you want to know if money makes people happy, so you down\n",
      "load the Better Life Index  data from the OECDs website  as well as stats about GDP\n",
      "per capita from the IMFs website . Then you join the tables and sort by GDP per cap\n",
      "ita. Table 1-1  shows an excerpt of what you get.\n",
      "Types of Machine Learning Systems | 19\n",
      "{'page': 44, 'source': './AI_Book.pdf'}\n",
      "\n",
      "\n"
     ]
    }
   ],
   "source": [
    "search_query = \"Types of Machine Learning Systems\"\n",
    "\n",
    "results = vector_db_from_client.similarity_search(search_query, k=3)\n",
    "\n",
    "for res in results:\n",
    "    print(res.page_content)\n",
    "    print(res.metadata)\n",
    "    print(\"\\n\")"
   ]
  }
 ],
 "metadata": {
  "kernelspec": {
   "display_name": ".venv",
   "language": "python",
   "name": "python3"
  },
  "language_info": {
   "codemirror_mode": {
    "name": "ipython",
    "version": 3
   },
   "file_extension": ".py",
   "mimetype": "text/x-python",
   "name": "python",
   "nbconvert_exporter": "python",
   "pygments_lexer": "ipython3",
   "version": "3.11.11"
  }
 },
 "nbformat": 4,
 "nbformat_minor": 2
}
